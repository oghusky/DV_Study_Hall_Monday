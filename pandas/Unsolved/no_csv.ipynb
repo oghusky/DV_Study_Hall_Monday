{
 "cells": [
  {
   "cell_type": "code",
   "execution_count": 1,
   "metadata": {},
   "outputs": [],
   "source": [
    "import pandas as pd\n",
    "import numpy as np"
   ]
  },
  {
   "cell_type": "code",
   "execution_count": 3,
   "metadata": {},
   "outputs": [
    {
     "data": {
      "text/plain": [
       "0    0\n",
       "1    1\n",
       "2    2\n",
       "3    3\n",
       "4    4\n",
       "5    5\n",
       "dtype: int64"
      ]
     },
     "execution_count": 3,
     "metadata": {},
     "output_type": "execute_result"
    }
   ],
   "source": [
    "arr=[0,1,2,3,4,5]\n",
    "s1 = pd.Series(arr)\n",
    "s1"
   ]
  },
  {
   "cell_type": "code",
   "execution_count": 6,
   "metadata": {},
   "outputs": [
    {
     "data": {
      "text/plain": [
       "a    0\n",
       "b    1\n",
       "c    2\n",
       "d    3\n",
       "e    4\n",
       "f    5\n",
       "dtype: int64"
      ]
     },
     "execution_count": 6,
     "metadata": {},
     "output_type": "execute_result"
    }
   ],
   "source": [
    "order = [\"a\",\"b\", \"c\", \"d\", \"e\", \"f\"]\n",
    "s2 = pd.Series(arr, index=order)\n",
    "s2"
   ]
  },
  {
   "cell_type": "code",
   "execution_count": 8,
   "metadata": {},
   "outputs": [
    {
     "data": {
      "text/plain": [
       "a    1\n",
       "b    2\n",
       "c    3\n",
       "d    4\n",
       "dtype: int64"
      ]
     },
     "execution_count": 8,
     "metadata": {},
     "output_type": "execute_result"
    }
   ],
   "source": [
    "dict = {\"a\": 1, \n",
    "        \"b\": 2, \n",
    "        \"c\": 3, \n",
    "        \"d\": 4}\n",
    "s3 = pd.Series(dict)\n",
    "s3"
   ]
  },
  {
   "cell_type": "code",
   "execution_count": 15,
   "metadata": {},
   "outputs": [
    {
     "data": {
      "text/html": [
       "<div>\n",
       "<style scoped>\n",
       "    .dataframe tbody tr th:only-of-type {\n",
       "        vertical-align: middle;\n",
       "    }\n",
       "\n",
       "    .dataframe tbody tr th {\n",
       "        vertical-align: top;\n",
       "    }\n",
       "\n",
       "    .dataframe thead th {\n",
       "        text-align: right;\n",
       "    }\n",
       "</style>\n",
       "<table border=\"1\" class=\"dataframe\">\n",
       "  <thead>\n",
       "    <tr style=\"text-align: right;\">\n",
       "      <th></th>\n",
       "      <th>A</th>\n",
       "      <th>B</th>\n",
       "      <th>C</th>\n",
       "      <th>D</th>\n",
       "    </tr>\n",
       "  </thead>\n",
       "  <tbody>\n",
       "    <tr>\n",
       "      <td>2020-05-04 20:18:50.058026</td>\n",
       "      <td>1.542390</td>\n",
       "      <td>-0.045546</td>\n",
       "      <td>0.894570</td>\n",
       "      <td>1.531538</td>\n",
       "    </tr>\n",
       "    <tr>\n",
       "      <td>2020-05-05 20:18:50.058026</td>\n",
       "      <td>0.229133</td>\n",
       "      <td>1.278906</td>\n",
       "      <td>-2.728281</td>\n",
       "      <td>-0.988804</td>\n",
       "    </tr>\n",
       "    <tr>\n",
       "      <td>2020-05-06 20:18:50.058026</td>\n",
       "      <td>0.292807</td>\n",
       "      <td>1.373070</td>\n",
       "      <td>-1.308933</td>\n",
       "      <td>-0.027221</td>\n",
       "    </tr>\n",
       "    <tr>\n",
       "      <td>2020-05-07 20:18:50.058026</td>\n",
       "      <td>-1.253183</td>\n",
       "      <td>0.964706</td>\n",
       "      <td>2.360434</td>\n",
       "      <td>-1.276647</td>\n",
       "    </tr>\n",
       "    <tr>\n",
       "      <td>2020-05-08 20:18:50.058026</td>\n",
       "      <td>-1.636411</td>\n",
       "      <td>0.783800</td>\n",
       "      <td>1.011901</td>\n",
       "      <td>-0.545729</td>\n",
       "    </tr>\n",
       "    <tr>\n",
       "      <td>2020-05-09 20:18:50.058026</td>\n",
       "      <td>-1.012186</td>\n",
       "      <td>-1.066798</td>\n",
       "      <td>-0.575277</td>\n",
       "      <td>-0.593953</td>\n",
       "    </tr>\n",
       "  </tbody>\n",
       "</table>\n",
       "</div>"
      ],
      "text/plain": [
       "                                   A         B         C         D\n",
       "2020-05-04 20:18:50.058026  1.542390 -0.045546  0.894570  1.531538\n",
       "2020-05-05 20:18:50.058026  0.229133  1.278906 -2.728281 -0.988804\n",
       "2020-05-06 20:18:50.058026  0.292807  1.373070 -1.308933 -0.027221\n",
       "2020-05-07 20:18:50.058026 -1.253183  0.964706  2.360434 -1.276647\n",
       "2020-05-08 20:18:50.058026 -1.636411  0.783800  1.011901 -0.545729\n",
       "2020-05-09 20:18:50.058026 -1.012186 -1.066798 -0.575277 -0.593953"
      ]
     },
     "execution_count": 15,
     "metadata": {},
     "output_type": "execute_result"
    }
   ],
   "source": [
    "dates = pd.date_range(\"today\", periods=6)\n",
    "# dates\n",
    "num_arr = np.random.randn(6,4)\n",
    "# num_arr\n",
    "columns = [\"A\", \"B\", \"C\", \"D\"]\n",
    "df1 = pd.DataFrame(num_arr, index=dates, columns = columns)\n",
    "df1"
   ]
  },
  {
   "cell_type": "code",
   "execution_count": 16,
   "metadata": {},
   "outputs": [
    {
     "data": {
      "text/html": [
       "<div>\n",
       "<style scoped>\n",
       "    .dataframe tbody tr th:only-of-type {\n",
       "        vertical-align: middle;\n",
       "    }\n",
       "\n",
       "    .dataframe tbody tr th {\n",
       "        vertical-align: top;\n",
       "    }\n",
       "\n",
       "    .dataframe thead th {\n",
       "        text-align: right;\n",
       "    }\n",
       "</style>\n",
       "<table border=\"1\" class=\"dataframe\">\n",
       "  <thead>\n",
       "    <tr style=\"text-align: right;\">\n",
       "      <th></th>\n",
       "      <th>A</th>\n",
       "      <th>B</th>\n",
       "      <th>C</th>\n",
       "      <th>D</th>\n",
       "    </tr>\n",
       "  </thead>\n",
       "  <tbody>\n",
       "    <tr>\n",
       "      <td>count</td>\n",
       "      <td>6.000000</td>\n",
       "      <td>6.000000</td>\n",
       "      <td>6.000000</td>\n",
       "      <td>6.000000</td>\n",
       "    </tr>\n",
       "    <tr>\n",
       "      <td>mean</td>\n",
       "      <td>-0.306242</td>\n",
       "      <td>0.548023</td>\n",
       "      <td>-0.057598</td>\n",
       "      <td>-0.316803</td>\n",
       "    </tr>\n",
       "    <tr>\n",
       "      <td>std</td>\n",
       "      <td>1.202276</td>\n",
       "      <td>0.938518</td>\n",
       "      <td>1.836503</td>\n",
       "      <td>1.000233</td>\n",
       "    </tr>\n",
       "    <tr>\n",
       "      <td>min</td>\n",
       "      <td>-1.636411</td>\n",
       "      <td>-1.066798</td>\n",
       "      <td>-2.728281</td>\n",
       "      <td>-1.276647</td>\n",
       "    </tr>\n",
       "    <tr>\n",
       "      <td>25%</td>\n",
       "      <td>-1.192934</td>\n",
       "      <td>0.161791</td>\n",
       "      <td>-1.125519</td>\n",
       "      <td>-0.890091</td>\n",
       "    </tr>\n",
       "    <tr>\n",
       "      <td>50%</td>\n",
       "      <td>-0.391526</td>\n",
       "      <td>0.874253</td>\n",
       "      <td>0.159646</td>\n",
       "      <td>-0.569841</td>\n",
       "    </tr>\n",
       "    <tr>\n",
       "      <td>75%</td>\n",
       "      <td>0.276889</td>\n",
       "      <td>1.200356</td>\n",
       "      <td>0.982568</td>\n",
       "      <td>-0.156848</td>\n",
       "    </tr>\n",
       "    <tr>\n",
       "      <td>max</td>\n",
       "      <td>1.542390</td>\n",
       "      <td>1.373070</td>\n",
       "      <td>2.360434</td>\n",
       "      <td>1.531538</td>\n",
       "    </tr>\n",
       "  </tbody>\n",
       "</table>\n",
       "</div>"
      ],
      "text/plain": [
       "              A         B         C         D\n",
       "count  6.000000  6.000000  6.000000  6.000000\n",
       "mean  -0.306242  0.548023 -0.057598 -0.316803\n",
       "std    1.202276  0.938518  1.836503  1.000233\n",
       "min   -1.636411 -1.066798 -2.728281 -1.276647\n",
       "25%   -1.192934  0.161791 -1.125519 -0.890091\n",
       "50%   -0.391526  0.874253  0.159646 -0.569841\n",
       "75%    0.276889  1.200356  0.982568 -0.156848\n",
       "max    1.542390  1.373070  2.360434  1.531538"
      ]
     },
     "execution_count": 16,
     "metadata": {},
     "output_type": "execute_result"
    }
   ],
   "source": [
    "df1.describe()"
   ]
  },
  {
   "cell_type": "code",
   "execution_count": 17,
   "metadata": {
    "scrolled": true
   },
   "outputs": [
    {
     "data": {
      "text/html": [
       "<div>\n",
       "<style scoped>\n",
       "    .dataframe tbody tr th:only-of-type {\n",
       "        vertical-align: middle;\n",
       "    }\n",
       "\n",
       "    .dataframe tbody tr th {\n",
       "        vertical-align: top;\n",
       "    }\n",
       "\n",
       "    .dataframe thead th {\n",
       "        text-align: right;\n",
       "    }\n",
       "</style>\n",
       "<table border=\"1\" class=\"dataframe\">\n",
       "  <thead>\n",
       "    <tr style=\"text-align: right;\">\n",
       "      <th></th>\n",
       "      <th>2020-05-04 20:18:50.058026</th>\n",
       "      <th>2020-05-05 20:18:50.058026</th>\n",
       "      <th>2020-05-06 20:18:50.058026</th>\n",
       "      <th>2020-05-07 20:18:50.058026</th>\n",
       "      <th>2020-05-08 20:18:50.058026</th>\n",
       "      <th>2020-05-09 20:18:50.058026</th>\n",
       "    </tr>\n",
       "  </thead>\n",
       "  <tbody>\n",
       "    <tr>\n",
       "      <td>A</td>\n",
       "      <td>1.542390</td>\n",
       "      <td>0.229133</td>\n",
       "      <td>0.292807</td>\n",
       "      <td>-1.253183</td>\n",
       "      <td>-1.636411</td>\n",
       "      <td>-1.012186</td>\n",
       "    </tr>\n",
       "    <tr>\n",
       "      <td>B</td>\n",
       "      <td>-0.045546</td>\n",
       "      <td>1.278906</td>\n",
       "      <td>1.373070</td>\n",
       "      <td>0.964706</td>\n",
       "      <td>0.783800</td>\n",
       "      <td>-1.066798</td>\n",
       "    </tr>\n",
       "    <tr>\n",
       "      <td>C</td>\n",
       "      <td>0.894570</td>\n",
       "      <td>-2.728281</td>\n",
       "      <td>-1.308933</td>\n",
       "      <td>2.360434</td>\n",
       "      <td>1.011901</td>\n",
       "      <td>-0.575277</td>\n",
       "    </tr>\n",
       "    <tr>\n",
       "      <td>D</td>\n",
       "      <td>1.531538</td>\n",
       "      <td>-0.988804</td>\n",
       "      <td>-0.027221</td>\n",
       "      <td>-1.276647</td>\n",
       "      <td>-0.545729</td>\n",
       "      <td>-0.593953</td>\n",
       "    </tr>\n",
       "  </tbody>\n",
       "</table>\n",
       "</div>"
      ],
      "text/plain": [
       "   2020-05-04 20:18:50.058026  2020-05-05 20:18:50.058026  \\\n",
       "A                    1.542390                    0.229133   \n",
       "B                   -0.045546                    1.278906   \n",
       "C                    0.894570                   -2.728281   \n",
       "D                    1.531538                   -0.988804   \n",
       "\n",
       "   2020-05-06 20:18:50.058026  2020-05-07 20:18:50.058026  \\\n",
       "A                    0.292807                   -1.253183   \n",
       "B                    1.373070                    0.964706   \n",
       "C                   -1.308933                    2.360434   \n",
       "D                   -0.027221                   -1.276647   \n",
       "\n",
       "   2020-05-08 20:18:50.058026  2020-05-09 20:18:50.058026  \n",
       "A                   -1.636411                   -1.012186  \n",
       "B                    0.783800                   -1.066798  \n",
       "C                    1.011901                   -0.575277  \n",
       "D                   -0.545729                   -0.593953  "
      ]
     },
     "execution_count": 17,
     "metadata": {},
     "output_type": "execute_result"
    }
   ],
   "source": [
    "df1.T"
   ]
  },
  {
   "cell_type": "code",
   "execution_count": 19,
   "metadata": {
    "scrolled": true
   },
   "outputs": [
    {
     "data": {
      "text/plain": [
       "A    float64\n",
       "B    float64\n",
       "C    float64\n",
       "D    float64\n",
       "dtype: object"
      ]
     },
     "execution_count": 19,
     "metadata": {},
     "output_type": "execute_result"
    }
   ],
   "source": [
    "df1.dtypes"
   ]
  },
  {
   "cell_type": "code",
   "execution_count": 20,
   "metadata": {},
   "outputs": [
    {
     "data": {
      "text/html": [
       "<div>\n",
       "<style scoped>\n",
       "    .dataframe tbody tr th:only-of-type {\n",
       "        vertical-align: middle;\n",
       "    }\n",
       "\n",
       "    .dataframe tbody tr th {\n",
       "        vertical-align: top;\n",
       "    }\n",
       "\n",
       "    .dataframe thead th {\n",
       "        text-align: right;\n",
       "    }\n",
       "</style>\n",
       "<table border=\"1\" class=\"dataframe\">\n",
       "  <thead>\n",
       "    <tr style=\"text-align: right;\">\n",
       "      <th></th>\n",
       "      <th>animal</th>\n",
       "      <th>age</th>\n",
       "      <th>visits</th>\n",
       "      <th>priority</th>\n",
       "    </tr>\n",
       "  </thead>\n",
       "  <tbody>\n",
       "    <tr>\n",
       "      <td>A</td>\n",
       "      <td>cat</td>\n",
       "      <td>4</td>\n",
       "      <td>9</td>\n",
       "      <td>yes</td>\n",
       "    </tr>\n",
       "    <tr>\n",
       "      <td>B</td>\n",
       "      <td>dog</td>\n",
       "      <td>2</td>\n",
       "      <td>8</td>\n",
       "      <td>no</td>\n",
       "    </tr>\n",
       "    <tr>\n",
       "      <td>C</td>\n",
       "      <td>snake</td>\n",
       "      <td>1</td>\n",
       "      <td>7</td>\n",
       "      <td>no</td>\n",
       "    </tr>\n",
       "    <tr>\n",
       "      <td>D</td>\n",
       "      <td>turtle</td>\n",
       "      <td>3</td>\n",
       "      <td>6</td>\n",
       "      <td>yes</td>\n",
       "    </tr>\n",
       "  </tbody>\n",
       "</table>\n",
       "</div>"
      ],
      "text/plain": [
       "   animal  age  visits priority\n",
       "A     cat    4       9      yes\n",
       "B     dog    2       8       no\n",
       "C   snake    1       7       no\n",
       "D  turtle    3       6      yes"
      ]
     },
     "execution_count": 20,
     "metadata": {},
     "output_type": "execute_result"
    }
   ],
   "source": [
    "d = {'animal':['cat', 'dog','snake', 'turtle'],\n",
    "     'age':[4,2,1,3], \n",
    "     'visits':[9,8,7,6],\n",
    "     'priority':['yes','no','no','yes']}\n",
    "labels = ['A', 'B', 'C', 'D']\n",
    "df2 = pd.DataFrame(d, index=labels)\n",
    "df2"
   ]
  },
  {
   "cell_type": "code",
   "execution_count": 21,
   "metadata": {},
   "outputs": [
    {
     "data": {
      "text/plain": [
       "animal      object\n",
       "age          int64\n",
       "visits       int64\n",
       "priority    object\n",
       "dtype: object"
      ]
     },
     "execution_count": 21,
     "metadata": {},
     "output_type": "execute_result"
    }
   ],
   "source": [
    "df2.dtypes"
   ]
  },
  {
   "cell_type": "code",
   "execution_count": 23,
   "metadata": {
    "scrolled": true
   },
   "outputs": [
    {
     "data": {
      "text/html": [
       "<div>\n",
       "<style scoped>\n",
       "    .dataframe tbody tr th:only-of-type {\n",
       "        vertical-align: middle;\n",
       "    }\n",
       "\n",
       "    .dataframe tbody tr th {\n",
       "        vertical-align: top;\n",
       "    }\n",
       "\n",
       "    .dataframe thead th {\n",
       "        text-align: right;\n",
       "    }\n",
       "</style>\n",
       "<table border=\"1\" class=\"dataframe\">\n",
       "  <thead>\n",
       "    <tr style=\"text-align: right;\">\n",
       "      <th></th>\n",
       "      <th>animal</th>\n",
       "      <th>age</th>\n",
       "      <th>visits</th>\n",
       "      <th>priority</th>\n",
       "    </tr>\n",
       "  </thead>\n",
       "  <tbody>\n",
       "    <tr>\n",
       "      <td>A</td>\n",
       "      <td>cat</td>\n",
       "      <td>4</td>\n",
       "      <td>9</td>\n",
       "      <td>yes</td>\n",
       "    </tr>\n",
       "    <tr>\n",
       "      <td>B</td>\n",
       "      <td>dog</td>\n",
       "      <td>2</td>\n",
       "      <td>8</td>\n",
       "      <td>no</td>\n",
       "    </tr>\n",
       "  </tbody>\n",
       "</table>\n",
       "</div>"
      ],
      "text/plain": [
       "  animal  age  visits priority\n",
       "A    cat    4       9      yes\n",
       "B    dog    2       8       no"
      ]
     },
     "execution_count": 23,
     "metadata": {},
     "output_type": "execute_result"
    }
   ],
   "source": [
    "df2.head(2)"
   ]
  },
  {
   "cell_type": "code",
   "execution_count": 26,
   "metadata": {},
   "outputs": [
    {
     "data": {
      "text/html": [
       "<div>\n",
       "<style scoped>\n",
       "    .dataframe tbody tr th:only-of-type {\n",
       "        vertical-align: middle;\n",
       "    }\n",
       "\n",
       "    .dataframe tbody tr th {\n",
       "        vertical-align: top;\n",
       "    }\n",
       "\n",
       "    .dataframe thead th {\n",
       "        text-align: right;\n",
       "    }\n",
       "</style>\n",
       "<table border=\"1\" class=\"dataframe\">\n",
       "  <thead>\n",
       "    <tr style=\"text-align: right;\">\n",
       "      <th></th>\n",
       "      <th>animal</th>\n",
       "      <th>age</th>\n",
       "      <th>visits</th>\n",
       "      <th>priority</th>\n",
       "    </tr>\n",
       "  </thead>\n",
       "  <tbody>\n",
       "    <tr>\n",
       "      <td>C</td>\n",
       "      <td>snake</td>\n",
       "      <td>1</td>\n",
       "      <td>7</td>\n",
       "      <td>no</td>\n",
       "    </tr>\n",
       "    <tr>\n",
       "      <td>D</td>\n",
       "      <td>turtle</td>\n",
       "      <td>3</td>\n",
       "      <td>6</td>\n",
       "      <td>yes</td>\n",
       "    </tr>\n",
       "  </tbody>\n",
       "</table>\n",
       "</div>"
      ],
      "text/plain": [
       "   animal  age  visits priority\n",
       "C   snake    1       7       no\n",
       "D  turtle    3       6      yes"
      ]
     },
     "execution_count": 26,
     "metadata": {},
     "output_type": "execute_result"
    }
   ],
   "source": [
    "df2.tail(2)"
   ]
  },
  {
   "cell_type": "code",
   "execution_count": 29,
   "metadata": {},
   "outputs": [
    {
     "data": {
      "text/plain": [
       "Index(['animal', 'age', 'visits', 'priority'], dtype='object')"
      ]
     },
     "execution_count": 29,
     "metadata": {},
     "output_type": "execute_result"
    }
   ],
   "source": [
    "df2.columns"
   ]
  },
  {
   "cell_type": "code",
   "execution_count": 30,
   "metadata": {},
   "outputs": [
    {
     "data": {
      "text/html": [
       "<div>\n",
       "<style scoped>\n",
       "    .dataframe tbody tr th:only-of-type {\n",
       "        vertical-align: middle;\n",
       "    }\n",
       "\n",
       "    .dataframe tbody tr th {\n",
       "        vertical-align: top;\n",
       "    }\n",
       "\n",
       "    .dataframe thead th {\n",
       "        text-align: right;\n",
       "    }\n",
       "</style>\n",
       "<table border=\"1\" class=\"dataframe\">\n",
       "  <thead>\n",
       "    <tr style=\"text-align: right;\">\n",
       "      <th></th>\n",
       "      <th>animal</th>\n",
       "      <th>age</th>\n",
       "      <th>visits</th>\n",
       "      <th>priority</th>\n",
       "    </tr>\n",
       "  </thead>\n",
       "  <tbody>\n",
       "    <tr>\n",
       "      <td>C</td>\n",
       "      <td>snake</td>\n",
       "      <td>1</td>\n",
       "      <td>7</td>\n",
       "      <td>no</td>\n",
       "    </tr>\n",
       "    <tr>\n",
       "      <td>B</td>\n",
       "      <td>dog</td>\n",
       "      <td>2</td>\n",
       "      <td>8</td>\n",
       "      <td>no</td>\n",
       "    </tr>\n",
       "    <tr>\n",
       "      <td>D</td>\n",
       "      <td>turtle</td>\n",
       "      <td>3</td>\n",
       "      <td>6</td>\n",
       "      <td>yes</td>\n",
       "    </tr>\n",
       "    <tr>\n",
       "      <td>A</td>\n",
       "      <td>cat</td>\n",
       "      <td>4</td>\n",
       "      <td>9</td>\n",
       "      <td>yes</td>\n",
       "    </tr>\n",
       "  </tbody>\n",
       "</table>\n",
       "</div>"
      ],
      "text/plain": [
       "   animal  age  visits priority\n",
       "C   snake    1       7       no\n",
       "B     dog    2       8       no\n",
       "D  turtle    3       6      yes\n",
       "A     cat    4       9      yes"
      ]
     },
     "execution_count": 30,
     "metadata": {},
     "output_type": "execute_result"
    }
   ],
   "source": [
    "df2.sort_values(by=\"age\")"
   ]
  }
 ],
 "metadata": {
  "kernelspec": {
   "display_name": "Python [conda env:Anaconda3]",
   "language": "python",
   "name": "conda-env-Anaconda3-py"
  },
  "language_info": {
   "codemirror_mode": {
    "name": "ipython",
    "version": 3
   },
   "file_extension": ".py",
   "mimetype": "text/x-python",
   "name": "python",
   "nbconvert_exporter": "python",
   "pygments_lexer": "ipython3",
   "version": "3.7.4"
  }
 },
 "nbformat": 4,
 "nbformat_minor": 2
}
